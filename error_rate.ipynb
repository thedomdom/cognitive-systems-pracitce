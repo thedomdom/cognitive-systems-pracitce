{
 "cells": [
  {
   "cell_type": "markdown",
   "metadata": {},
   "source": [
    "Definition der `levenshtein`-Funktion (mit optionalem Parameter für die Gewichtungen von Ersetungen `sub_weight`:"
   ]
  },
  {
   "cell_type": "code",
   "execution_count": 3,
   "metadata": {
    "pycharm": {
     "is_executing": false,
     "name": "#%%\n"
    }
   },
   "outputs": [],
   "source": [
    "def levenshtein(s1, s2, sub_weight=1):\n",
    "    # Ensure s2 is shorter than s1\n",
    "    if len(s1) < len(s2):\n",
    "        return levenshtein(s2, s1)\n",
    "    # If s 2 is empty\n",
    "    if len(s2) == 0:\n",
    "        return len(s1)\n",
    "    # Create new array with length of s2 + 1\n",
    "    previous_row = range(len(s2) + 1)\n",
    "    for i, c1 in enumerate(s1):\n",
    "        current_row = [i + 1]\n",
    "        for j, c2 in enumerate(s2):\n",
    "            insertions = previous_row[j + 1] + 1\n",
    "            deletions = current_row[j] + 1\n",
    "            substitutions = previous_row[j] + (c1 != c2) * sub_weight\n",
    "            current_row.append(min(insertions, deletions, substitutions))\n",
    "        previous_row = current_row\n",
    "    return previous_row[-1]\n"
   ]
  },
  {
   "cell_type": "markdown",
   "metadata": {},
   "source": [
    "Weitere Definitionen:"
   ]
  },
  {
   "cell_type": "code",
   "execution_count": 4,
   "metadata": {},
   "outputs": [],
   "source": [
    "def character_edit_distance(s1, s2):\n",
    "    return levenshtein(s1, s2)\n",
    "\n",
    "\n",
    "def word_edit_distance(s1, s2, sub_weight=1):\n",
    "    return levenshtein(s1.split(), s2.split(), sub_weight)"
   ]
  },
  {
   "cell_type": "markdown",
   "metadata": {},
   "source": [
    "Tests:"
   ]
  },
  {
   "cell_type": "code",
   "execution_count": 5,
   "metadata": {},
   "outputs": [
    {
     "name": "stdout",
     "output_type": "stream",
     "text": [
      "2\n",
      "1\n"
     ]
    }
   ],
   "source": [
    "print(character_edit_distance(\"Hallo\", \"hall\"))\n",
    "print(word_edit_distance(\"Hallo\", \"hall\"))"
   ]
  },
  {
   "cell_type": "markdown",
   "metadata": {},
   "source": [
    "Aufgabenstellung:"
   ]
  },
  {
   "cell_type": "code",
   "execution_count": 6,
   "metadata": {},
   "outputs": [],
   "source": [
    "reference = \"wenn es im Juni viel donnert kommt ein trüber Sommer\"\n",
    "\n",
    "hypotheses = [(1, \"im Juni viel Sonne kommt einen trüberen Sommer\"),\n",
    "              (2, \"viel Donner im Juni einen trüben Sommer bringt\"),\n",
    "              (3, \"Juni Donner einen Sommer\"),\n",
    "              (4, \"im Juni viel Donner bringt einen trüben Sommer\"),\n",
    "              (5, \"wenns im Juno viel Donner gibts einen trüben Sommer\")]"
   ]
  },
  {
   "cell_type": "markdown",
   "metadata": {},
   "source": [
    "Aufgabe a)"
   ]
  },
  {
   "cell_type": "code",
   "execution_count": 7,
   "metadata": {},
   "outputs": [
    {
     "name": "stdout",
     "output_type": "stream",
     "text": [
      "1 5\n",
      "2 8\n",
      "3 8\n",
      "4 6\n",
      "5 7\n"
     ]
    }
   ],
   "source": [
    "for number, hypothesis in hypotheses:\n",
    "    print(number, word_edit_distance(reference, hypothesis, sub_weight=1))"
   ]
  },
  {
   "cell_type": "markdown",
   "metadata": {},
   "source": [
    "Hypothesis 1 is most similar with wed=5"
   ]
  },
  {
   "cell_type": "markdown",
   "metadata": {},
   "source": [
    "Aufgabe b)"
   ]
  },
  {
   "cell_type": "code",
   "execution_count": 8,
   "metadata": {},
   "outputs": [
    {
     "name": "stdout",
     "output_type": "stream",
     "text": [
      "1 15\n",
      "2 34\n",
      "3 31\n",
      "4 20\n",
      "5 15\n"
     ]
    }
   ],
   "source": [
    "for number, hypothesis in hypotheses:\n",
    "    print(number, character_edit_distance(reference, hypothesis))"
   ]
  },
  {
   "cell_type": "markdown",
   "metadata": {},
   "source": [
    "Hypotheses 1 and 5 with ced=15"
   ]
  },
  {
   "cell_type": "markdown",
   "metadata": {},
   "source": [
    "Aufgabe c)"
   ]
  },
  {
   "cell_type": "code",
   "execution_count": 9,
   "metadata": {},
   "outputs": [
    {
     "name": "stdout",
     "output_type": "stream",
     "text": [
      "1 8\n",
      "2 12\n",
      "3 10\n",
      "4 10\n",
      "5 13\n"
     ]
    }
   ],
   "source": [
    "for number, hypothesis in hypotheses:\n",
    "    print(number, word_edit_distance(reference, hypothesis, sub_weight=2))"
   ]
  },
  {
   "cell_type": "markdown",
   "metadata": {},
   "source": [
    "Hypothesis 1 is most similar with wed=8"
   ]
  }
 ],
 "metadata": {
  "kernelspec": {
   "display_name": "Python 3",
   "language": "python",
   "name": "python3"
  },
  "language_info": {
   "codemirror_mode": {
    "name": "ipython",
    "version": 3
   },
   "file_extension": ".py",
   "mimetype": "text/x-python",
   "name": "python",
   "nbconvert_exporter": "python",
   "pygments_lexer": "ipython3",
   "version": "3.6.7"
  },
  "pycharm": {
   "stem_cell": {
    "cell_type": "raw",
    "source": [],
    "metadata": {
     "collapsed": false
    }
   }
  }
 },
 "nbformat": 4,
 "nbformat_minor": 1
}